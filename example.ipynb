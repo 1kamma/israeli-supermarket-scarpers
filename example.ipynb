{
 "cells": [
  {
   "cell_type": "code",
   "execution_count": 2,
   "metadata": {},
   "outputs": [
    {
     "name": "stdout",
     "output_type": "stream",
     "text": [
      "url.retail.publishedprices.co.il doralon \n",
      "url.retail.publishedprices.co.il HaziHinam \n",
      "url.retail.publishedprices.co.il Keshet \n",
      "url.retail.publishedprices.co.il osherad \n",
      "url.retail.publishedprices.co.il RamiLevi \n",
      "url.retail.publishedprices.co.il SuperCofixApp \n",
      "url.retail.publishedprices.co.il Stop_Market \n",
      "url.retail.publishedprices.co.il freshmarket \n",
      "url.retail.publishedprices.co.il TivTaam \n",
      "url.retail.publishedprices.co.il yohananof \n",
      "url.retail.publishedprices.co.il SalachD 12345\n",
      "url.retail.publishedprices.co.il politzer \n",
      "url.retail.publishedprices.co.il Paz_bo paz468\n"
     ]
    },
    {
     "name": "stderr",
     "output_type": "stream",
     "text": [
      "Error downloading http://prices.super-pharm.co.il//home/getlink/4f127a32a08a0ff7c151d7f0cc7e0f33/\n",
      "can only concatenate str (not \"list\") to str\n"
     ]
    },
    {
     "data": {
      "text/plain": [
       "['dump/Dor Alon',\n",
       " 'dump/Hazi Hinam',\n",
       " 'dump/Keshet Taamim',\n",
       " 'dump/Osher Ad',\n",
       " 'dump/Rami Levy',\n",
       " 'dump/cofix',\n",
       " 'dump/Shufersal',\n",
       " 'dump/Stop Market',\n",
       " 'dump/Super Dosh',\n",
       " 'dump/Tiv Taam',\n",
       " 'dump/Yohananof',\n",
       " 'dump/salachdabach',\n",
       " 'dump/Polizer',\n",
       " 'dump/Yellow',\n",
       " 'dump/Victory',\n",
       " 'dump/mahsani a shuk',\n",
       " 'dump/bareket',\n",
       " 'dump/Shuk Ahir',\n",
       " 'dump/ShefaBarcartAshem',\n",
       " 'dump/SuperYuda',\n",
       " 'dump/ZolVeBegadol',\n",
       " 'dump/Maayan2000',\n",
       " 'dump/King Store',\n",
       " 'dump/Super-Pharm',\n",
       " 'dump/mega',\n",
       " 'dump/mega-market',\n",
       " 'dump/Netiv Hasef',\n",
       " 'dump/GoodPharm']"
      ]
     },
     "execution_count": 2,
     "metadata": {},
     "output_type": "execute_result"
    }
   ],
   "source": [
    "# this needed to run asyncio in nb.\n",
    "import nest_asyncio\n",
    "nest_asyncio.apply()\n",
    "\n",
    "from il_supermarket_scarper import MainScrapperRunner\n",
    "\n",
    "scraper = MainScrapperRunner(dump_folder_name=\"dump\")\n",
    "scraper.run(limit=1)"
   ]
  },
  {
   "cell_type": "code",
   "execution_count": 7,
   "metadata": {},
   "outputs": [
    {
     "name": "stdout",
     "output_type": "stream",
     "text": [
      "dump/Super-Pharm/PromoFull7290172900007-249-202209070252.xml\n",
      "dump/Rami Levy/Price7290058140886-001-202209090800.xml\n",
      "dump/Polizer/Price7291059100008-001-202209090700.xml\n",
      "dump/ShefaBarcartAshem/Price7290058134977-041-202209091630.xml\n",
      "dump/Tiv Taam/Price7290873255550-002-202209091011.xml\n",
      "dump/Shufersal/Promo7290027600007-197-201606130230.xml\n",
      "dump/ZolVeBegadol/Price7290058173198-040-202209091635.xml\n",
      "dump/Super Dosh/Price7290876100000-001-202209090700.xml\n",
      "dump/Osher Ad/Price7290103152017-001-202209090900.xml\n",
      "dump/GoodPharm/Price7290058197699-952-202209091629.xml\n",
      "dump/King Store/Price7290058108879-337-202209091631.xml\n",
      "dump/cofix/Price7291056200008-299-202209090800.xml\n",
      "dump/Shuk Ahir/Price7290058148776-314-202209091629.xml\n",
      "dump/Stop Market/Price7290639000004-007-202209090800.xml\n",
      "dump/bareket/Promo7290875100001-063-202209091654-001.xml\n",
      "dump/Yohananof/Price7290803800003-004-202209090600.xml\n",
      "dump/salachdabach/Price7290526500006-004-202209090614.xml\n",
      "dump/SuperYuda/Price7290058198450-040-202209091429.xml\n",
      "dump/Netiv Hasef/Price7290058160839-213-202209091404.xml\n",
      "dump/mega/Promo7290055700007-9090-202209091700.xml\n",
      "dump/Maayan2000/Price7290058159628-060-202209091633.xml\n",
      "dump/mega-market/Promo7290055700014-2150-202209091700.xml\n",
      "dump/mahsani a shuk/Promo7290633800006-202-202209091710-000.xml\n",
      "dump/Yellow/Price7290644700005-100-202209090600.xml\n",
      "dump/Dor Alon/Price7290492000005-450-202209090600.xml\n",
      "dump/Victory/Promo7290696200003-030-202209091657-001.xml\n",
      "dump/Hazi Hinam/Price7290700100008-001-202209090700.xml\n",
      "dump/Keshet Taamim/Price7290785400000-002-202209090641.xml\n"
     ]
    }
   ],
   "source": [
    "import os\n",
    "for supermarket_folder in os.listdir(\"dump\"):\n",
    "    files_in_folder = os.listdir(os.path.join(\"dump\",supermarket_folder))\n",
    "    assert len(files_in_folder) == 1, \"asked to download only one file\"\n",
    "    print(os.path.join(\"dump\",supermarket_folder,files_in_folder[0]))\n"
   ]
  },
  {
   "cell_type": "code",
   "execution_count": null,
   "metadata": {},
   "outputs": [],
   "source": []
  }
 ],
 "metadata": {
  "kernelspec": {
   "display_name": "Python 3.8.2 ('env': venv)",
   "language": "python",
   "name": "python3"
  },
  "language_info": {
   "codemirror_mode": {
    "name": "ipython",
    "version": 3
   },
   "file_extension": ".py",
   "mimetype": "text/x-python",
   "name": "python",
   "nbconvert_exporter": "python",
   "pygments_lexer": "ipython3",
   "version": "3.8.2"
  },
  "orig_nbformat": 4,
  "vscode": {
   "interpreter": {
    "hash": "4a4a04ec409da8fd33886bef56cf96b872118f9e0963ea35d47c5841c948e8c3"
   }
  }
 },
 "nbformat": 4,
 "nbformat_minor": 2
}
